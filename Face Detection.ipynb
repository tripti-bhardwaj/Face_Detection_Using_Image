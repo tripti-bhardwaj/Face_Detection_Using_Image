{
 "cells": [
  {
   "cell_type": "code",
   "execution_count": 1,
   "id": "37da59a0",
   "metadata": {},
   "outputs": [],
   "source": [
    "import cv2"
   ]
  },
  {
   "cell_type": "code",
   "execution_count": 2,
   "id": "12e7fdfe",
   "metadata": {},
   "outputs": [],
   "source": [
    "face_cascade = cv2.CascadeClassifier(\"/Users/triptibhardwaj/Downloads/haarcascade_frontalface_default.xml\")"
   ]
  },
  {
   "cell_type": "code",
   "execution_count": 3,
   "id": "1fede136",
   "metadata": {},
   "outputs": [],
   "source": [
    "if face_cascade.empty():\n",
    "    raise Exception(\"Error loading cascade classifier XML file\")"
   ]
  },
  {
   "cell_type": "code",
   "execution_count": 4,
   "id": "754370f1",
   "metadata": {},
   "outputs": [],
   "source": [
    "img = cv2.imread('/Users/triptibhardwaj/Downloads/srk.jpg')"
   ]
  },
  {
   "cell_type": "code",
   "execution_count": 5,
   "id": "4b4a3929",
   "metadata": {},
   "outputs": [],
   "source": [
    "img = cv2.imread('/Users/triptibhardwaj/Downloads/srk.jpg')\n",
    "if img is None:\n",
    "    raise Exception(\"Error loading image\")"
   ]
  },
  {
   "cell_type": "code",
   "execution_count": 6,
   "id": "6556f6a0",
   "metadata": {},
   "outputs": [],
   "source": [
    "gray = cv2.cvtColor(img, cv2.COLOR_BGR2GRAY)"
   ]
  },
  {
   "cell_type": "code",
   "execution_count": 7,
   "id": "cf68f4a1",
   "metadata": {},
   "outputs": [],
   "source": [
    "faces = face_cascade.detectMultiScale(gray, scaleFactor=1.1, minNeighbors=4)"
   ]
  },
  {
   "cell_type": "code",
   "execution_count": 8,
   "id": "0b52461a",
   "metadata": {},
   "outputs": [],
   "source": [
    "for (x, y, w, h) in faces:\n",
    "    cv2.rectangle(gray, (x, y), (x + w, y + h), (255, 0, 0), 3)"
   ]
  },
  {
   "cell_type": "code",
   "execution_count": 9,
   "id": "f3545ebb",
   "metadata": {},
   "outputs": [],
   "source": [
    "cv2.imshow('img', img)\n",
    "cv2.waitKey(0)\n",
    "cv2.destroyAllWindows() "
   ]
  },
  {
   "cell_type": "code",
   "execution_count": 10,
   "id": "9d414d8e",
   "metadata": {},
   "outputs": [],
   "source": [
    "cv2.imshow('Detected Faces', gray)\n",
    "cv2.waitKey(0)\n",
    "cv2.destroyAllWindows()"
   ]
  }
 ],
 "metadata": {
  "kernelspec": {
   "display_name": "Python 3 (ipykernel)",
   "language": "python",
   "name": "python3"
  },
  "language_info": {
   "codemirror_mode": {
    "name": "ipython",
    "version": 3
   },
   "file_extension": ".py",
   "mimetype": "text/x-python",
   "name": "python",
   "nbconvert_exporter": "python",
   "pygments_lexer": "ipython3",
   "version": "3.11.3"
  }
 },
 "nbformat": 4,
 "nbformat_minor": 5
}
